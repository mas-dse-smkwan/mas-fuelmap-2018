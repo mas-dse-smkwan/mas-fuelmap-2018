{
 "cells": [
  {
   "cell_type": "code",
   "execution_count": 1,
   "metadata": {},
   "outputs": [],
   "source": [
    "from sklearn.preprocessing import LabelEncoder\n",
    "import numpy as np\n",
    "from sklearn.model_selection import StratifiedShuffleSplit,ShuffleSplit"
   ]
  },
  {
   "cell_type": "code",
   "execution_count": 2,
   "metadata": {},
   "outputs": [
    {
     "name": "stderr",
     "output_type": "stream",
     "text": [
      "/usr/local/lib/python3.5/dist-packages/h5py/__init__.py:36: FutureWarning: Conversion of the second argument of issubdtype from `float` to `np.floating` is deprecated. In future, it will be treated as `np.float64 == np.dtype(float).type`.\n",
      "  from ._conv import register_converters as _register_converters\n"
     ]
    }
   ],
   "source": [
    "import sys\n",
    "sys.path.insert(0, '/data/src')\n",
    "from features import geopatches"
   ]
  },
  {
   "cell_type": "code",
   "execution_count": 3,
   "metadata": {},
   "outputs": [],
   "source": [
    "import pandas as pd\n",
    "import matplotlib.pyplot as plt\n",
    "from sklearn import model_selection\n",
    "from sklearn.linear_model import LogisticRegression\n",
    "#from sklearn.tree import DecisionTreeClassifier\n",
    "from sklearn.ensemble import RandomForestClassifier,GradientBoostingClassifier\n",
    "from sklearn.neighbors import KNeighborsClassifier\n",
    "from sklearn.discriminant_analysis import LinearDiscriminantAnalysis\n",
    "from sklearn.naive_bayes import GaussianNB\n",
    "from sklearn.svm import SVC\n",
    "#from xgboost.sklearn import XGBClassifier\n",
    "from sklearn.metrics import classification_report\n",
    "from sklearn.metrics import accuracy_score"
   ]
  },
  {
   "cell_type": "code",
   "execution_count": 4,
   "metadata": {},
   "outputs": [],
   "source": [
    "# prepare models\n",
    "models = []\n",
    "#models.append(('LR', LogisticRegression()))\n",
    "models.append(('LDA', LinearDiscriminantAnalysis()))\n",
    "#models.append(('KNN', KNeighborsClassifier()))\n",
    "#models.append(('CART', DecisionTreeClassifier()))\n",
    "models.append(('RF', RandomForestClassifier()))\n",
    "models.append(('NB', GaussianNB()))\n",
    "#models.append(('SVM', SVC()))\n",
    "#models.append(('GBC', GradientBoostingClassifier()))\n",
    "#models.append(('XGB', XGBClassifier()))"
   ]
  },
  {
   "cell_type": "code",
   "execution_count": 5,
   "metadata": {},
   "outputs": [],
   "source": [
    "def evaluate_model(list_img,dict_img,list_label,dict_label,scoring):\n",
    "\n",
    "    np.random.seed(42)\n",
    "\n",
    "    X_raw, Y_raw = geopatches.create_data(list_img,dict_img,\\\n",
    "                                        list_label,dict_label)\n",
    "    #                                     ndvi={'nir': 4, 'red': 3}, evi={'nir':4, 'red': 3, 'blue': 1})\n",
    "\n",
    "    #remove classes that are too small\n",
    "    list_remove = []\n",
    "    for x in np.asarray(np.unique(Y_raw, return_counts=True)).T:\n",
    "        if x[1] < 400:\n",
    "            list_remove.append(x[0])\n",
    "    idx = np.arange(Y_raw.shape[0])[np.in1d(Y_raw,list_remove)]\n",
    "    X_raw = np.delete(X_raw,idx,0)\n",
    "    Y_raw = np.delete(Y_raw,idx,0)\n",
    "\n",
    "    # Condition X\n",
    "    X = X_raw.reshape([X_raw.shape[0],-1])\n",
    "    Y = Y_raw.reshape([X_raw.shape[0],-1])\n",
    "\n",
    "    sss = StratifiedShuffleSplit(n_splits=1, random_state=42, test_size=0.3)\n",
    "    #sss = ShuffleSplit(n_splits=1, random_state=42, test_size=0.3)\n",
    "    train_index, test_index = next(sss.split(X,Y_raw.flatten()))\n",
    "\n",
    "    X_train = X[train_index]\n",
    "    Y_train = Y[train_index]\n",
    "\n",
    "    X_test = X[test_index]\n",
    "    Y_test = Y[test_index]\n",
    "\n",
    "    # evaluate each model in turn\n",
    "    results = []\n",
    "    names = []\n",
    "    #scoring = 'accuracy'\n",
    "    for name, model in models:\n",
    "        kfold = model_selection.StratifiedShuffleSplit(n_splits=10, random_state=42)\n",
    "        cv_results = model_selection.cross_val_score(model, X, Y.flatten(), cv=kfold, scoring=scoring, n_jobs=-1)\n",
    "        results.append(cv_results)\n",
    "        names.append(name)\n",
    "        msg = \"%s: %f (%f)\" % (name, cv_results.mean(), cv_results.std())\n",
    "        print(msg)\n",
    "    # boxplot algorithm comparison\n",
    "    fig = plt.figure()\n",
    "    fig.suptitle('Algorithm Comparison')\n",
    "    ax = fig.add_subplot(111)\n",
    "    plt.boxplot(results)\n",
    "    ax.set_xticklabels(names)\n",
    "    plt.show()"
   ]
  },
  {
   "cell_type": "code",
   "execution_count": 6,
   "metadata": {},
   "outputs": [],
   "source": [
    "def f1_report(list_img,dict_img,list_label,dict_label):\n",
    "    np.random.seed(42)\n",
    "\n",
    "    X_raw, Y_raw = geopatches.create_data(list_img,dict_img,\\\n",
    "                                        list_label,dict_label)\n",
    "    #                                     ndvi={'nir': 4, 'red': 3}, evi={'nir':4, 'red': 3, 'blue': 1})\n",
    "\n",
    "    #remove classes that are too small\n",
    "    list_remove = []\n",
    "    for x in np.asarray(np.unique(Y_raw, return_counts=True)).T:\n",
    "        if x[1] < 400:\n",
    "            list_remove.append(x[0])\n",
    "    idx = np.arange(Y_raw.shape[0])[np.in1d(Y_raw,list_remove)]\n",
    "    X_raw = np.delete(X_raw,idx,0)\n",
    "    Y_raw = np.delete(Y_raw,idx,0)\n",
    "\n",
    "    # Condition X\n",
    "    X = X_raw.reshape([X_raw.shape[0],-1])\n",
    "    Y = Y_raw.reshape([X_raw.shape[0],-1])\n",
    "\n",
    "    sss = StratifiedShuffleSplit(n_splits=1, random_state=42, test_size=0.2)\n",
    "    #sss = ShuffleSplit(n_splits=1, random_state=42, test_size=0.3)\n",
    "    train_index, test_index = next(sss.split(X,Y_raw.flatten()))\n",
    "    \n",
    "    model = RandomForestClassifier(oob_score=True)\n",
    "    model.fit(X[train_index], Y_raw.flatten()[train_index])\n",
    "    predicted = model.predict(X[test_index])\n",
    "    accuracy = accuracy_score(Y.flatten()[test_index], predicted)\n",
    "    \n",
    "    print('Out-of-bag score estimate:', model.oob_score_)\n",
    "    print('Mean accuracy score:', accuracy)\n",
    "    \n",
    "    print(classification_report(Y.flatten()[test_index], predicted))\n"
   ]
  },
  {
   "cell_type": "code",
   "execution_count": 24,
   "metadata": {},
   "outputs": [
    {
     "name": "stdout",
     "output_type": "stream",
     "text": [
      "LDA: 0.342513 (0.002679)\n",
      "RF: 0.352442 (0.003535)\n",
      "NB: 0.154825 (0.002637)\n"
     ]
    },
    {
     "data": {
      "image/png": "[encoded data removed]",
      "text/plain": [
       "<matplotlib.figure.Figure at 0x7fd240247390>"
      ]
     },
     "metadata": {},
     "output_type": "display_data"
    }
   ],
   "source": [
    "evaluate_model(['/data/conditioned/planetlabs/1154314_2014-07-23_RE2_3A_Analytic_clip.tif'],\\\n",
    "               {'width': 6, 'height': 6, 'stride': 6, 'padding': 0},\\\n",
    "               ['/data/conditioned/landfire/US_140EVT_020818_UTM11_30_clipped.tif'],\\\n",
    "              {'width': 1, 'height': 1, 'stride': 1}, 'accuracy')"
   ]
  },
  {
   "cell_type": "code",
   "execution_count": 25,
   "metadata": {},
   "outputs": [
    {
     "name": "stdout",
     "output_type": "stream",
     "text": [
      "LDA: 0.543965 (0.002629)\n",
      "RF: 0.551482 (0.002883)\n",
      "NB: 0.329299 (0.006951)\n"
     ]
    },
    {
     "data": {
      "image/png": "[encoded data removed]",
      "text/plain": [
       "<matplotlib.figure.Figure at 0x7fd2402cb320>"
      ]
     },
     "metadata": {},
     "output_type": "display_data"
    }
   ],
   "source": [
    "evaluate_model(['/data/conditioned/planetlabs/1154314_2014-07-23_RE2_3A_Analytic_clip.tif'],\\\n",
    "               {'width': 6, 'height': 6, 'stride': 6, 'padding': 0},\\\n",
    "               ['/data/conditioned/landfire/US_140FBFM13_3030_clipped.tif'],\\\n",
    "              {'width': 1, 'height': 1, 'stride': 1}, 'accuracy')"
   ]
  },
  {
   "cell_type": "code",
   "execution_count": 26,
   "metadata": {},
   "outputs": [
    {
     "name": "stdout",
     "output_type": "stream",
     "text": [
      "LDA: 0.555678 (0.002420)\n",
      "RF: 0.565025 (0.003906)\n",
      "NB: 0.425629 (0.002491)\n"
     ]
    },
    {
     "data": {
      "image/png": "[encoded data removed]",
      "text/plain": [
       "<matplotlib.figure.Figure at 0x7fd215a9b780>"
      ]
     },
     "metadata": {},
     "output_type": "display_data"
    }
   ],
   "source": [
    "evaluate_model(['/data/conditioned/planetlabs/1154314_2014-07-23_RE2_3A_Analytic_clip.tif'],\\\n",
    "               {'width': 6, 'height': 6, 'stride': 6, 'padding': 0},\\\n",
    "               ['/data/conditioned/landfire/escondido_landcover_clipped.tif'],\\\n",
    "              {'width': 1, 'height': 1, 'stride': 1}, 'accuracy')"
   ]
  },
  {
   "cell_type": "code",
   "execution_count": 7,
   "metadata": {},
   "outputs": [
    {
     "name": "stderr",
     "output_type": "stream",
     "text": [
      "/usr/local/lib/python3.5/dist-packages/sklearn/discriminant_analysis.py:442: UserWarning: The priors do not sum to 1. Renormalizing\n",
      "  UserWarning)\n",
      "/usr/local/lib/python3.5/dist-packages/sklearn/discriminant_analysis.py:442: UserWarning: The priors do not sum to 1. Renormalizing\n",
      "  UserWarning)\n",
      "/usr/local/lib/python3.5/dist-packages/sklearn/discriminant_analysis.py:442: UserWarning: The priors do not sum to 1. Renormalizing\n",
      "  UserWarning)\n",
      "/usr/local/lib/python3.5/dist-packages/sklearn/discriminant_analysis.py:442: UserWarning: The priors do not sum to 1. Renormalizing\n",
      "  UserWarning)\n",
      "/usr/local/lib/python3.5/dist-packages/sklearn/discriminant_analysis.py:442: UserWarning: The priors do not sum to 1. Renormalizing\n",
      "  UserWarning)\n"
     ]
    },
    {
     "name": "stdout",
     "output_type": "stream",
     "text": [
      "LDA: 0.682890 (0.003509)\n",
      "RF: 0.665631 (0.004026)\n",
      "NB: 0.579778 (0.003990)\n"
     ]
    },
    {
     "data": {
      "image/png": "[encoded data removed]",
      "text/plain": [
       "<matplotlib.figure.Figure at 0x7f07e1b5a8d0>"
      ]
     },
     "metadata": {},
     "output_type": "display_data"
    }
   ],
   "source": [
    "evaluate_model(['/data/conditioned/planetlabs/1154314_2014-07-23_RE2_3A_Analytic_clip.tif'],\\\n",
    "               {'width': 6, 'height': 6, 'stride': 6, 'padding': 0},\\\n",
    "               ['/data/conditioned/landsat/ClusterRaster10.tif'],\\\n",
    "              {'width': 1, 'height': 1, 'stride': 1}, 'accuracy')"
   ]
  },
  {
   "cell_type": "code",
   "execution_count": 8,
   "metadata": {},
   "outputs": [
    {
     "name": "stdout",
     "output_type": "stream",
     "text": [
      "LDA: 0.510562 (0.001615)\n",
      "RF: 0.481321 (0.002907)\n",
      "NB: 0.417502 (0.003950)\n"
     ]
    },
    {
     "data": {
      "image/png": "[encoded data removed]",
      "text/plain": [
       "<matplotlib.figure.Figure at 0x7f08a625dd30>"
      ]
     },
     "metadata": {},
     "output_type": "display_data"
    }
   ],
   "source": [
    "evaluate_model(['/data/conditioned/planetlabs/1154314_2014-07-23_RE2_3A_Analytic_clip.tif'],\\\n",
    "               {'width': 6, 'height': 6, 'stride': 6, 'padding': 0},\\\n",
    "               ['/data/conditioned/landsat/ClusterRaster24.tif'],\\\n",
    "              {'width': 1, 'height': 1, 'stride': 1}, 'accuracy')"
   ]
  },
  {
   "cell_type": "code",
   "execution_count": 27,
   "metadata": {
    "scrolled": false
   },
   "outputs": [
    {
     "name": "stderr",
     "output_type": "stream",
     "text": [
      "/usr/local/lib/python3.5/dist-packages/sklearn/metrics/classification.py:1135: UndefinedMetricWarning: F-score is ill-defined and being set to 0.0 in labels with no predicted samples.\n",
      "  'precision', 'predicted', average, warn_for)\n",
      "/usr/local/lib/python3.5/dist-packages/sklearn/metrics/classification.py:1135: UndefinedMetricWarning: F-score is ill-defined and being set to 0.0 in labels with no predicted samples.\n",
      "  'precision', 'predicted', average, warn_for)\n",
      "/usr/local/lib/python3.5/dist-packages/sklearn/metrics/classification.py:1135: UndefinedMetricWarning: F-score is ill-defined and being set to 0.0 in labels with no predicted samples.\n",
      "  'precision', 'predicted', average, warn_for)\n",
      "/usr/local/lib/python3.5/dist-packages/sklearn/metrics/classification.py:1135: UndefinedMetricWarning: F-score is ill-defined and being set to 0.0 in labels with no predicted samples.\n",
      "  'precision', 'predicted', average, warn_for)\n",
      "/usr/local/lib/python3.5/dist-packages/sklearn/metrics/classification.py:1135: UndefinedMetricWarning: F-score is ill-defined and being set to 0.0 in labels with no predicted samples.\n",
      "  'precision', 'predicted', average, warn_for)\n",
      "/usr/local/lib/python3.5/dist-packages/sklearn/metrics/classification.py:1135: UndefinedMetricWarning: F-score is ill-defined and being set to 0.0 in labels with no predicted samples.\n",
      "  'precision', 'predicted', average, warn_for)\n",
      "/usr/local/lib/python3.5/dist-packages/sklearn/metrics/classification.py:1135: UndefinedMetricWarning: F-score is ill-defined and being set to 0.0 in labels with no predicted samples.\n",
      "  'precision', 'predicted', average, warn_for)\n",
      "/usr/local/lib/python3.5/dist-packages/sklearn/metrics/classification.py:1135: UndefinedMetricWarning: F-score is ill-defined and being set to 0.0 in labels with no predicted samples.\n",
      "  'precision', 'predicted', average, warn_for)\n",
      "/usr/local/lib/python3.5/dist-packages/sklearn/metrics/classification.py:1135: UndefinedMetricWarning: F-score is ill-defined and being set to 0.0 in labels with no predicted samples.\n",
      "  'precision', 'predicted', average, warn_for)\n",
      "/usr/local/lib/python3.5/dist-packages/sklearn/metrics/classification.py:1135: UndefinedMetricWarning: F-score is ill-defined and being set to 0.0 in labels with no predicted samples.\n",
      "  'precision', 'predicted', average, warn_for)\n"
     ]
    },
    {
     "name": "stdout",
     "output_type": "stream",
     "text": [
      "LDA: 0.279130 (0.002175)\n"
     ]
    },
    {
     "name": "stderr",
     "output_type": "stream",
     "text": [
      "/usr/local/lib/python3.5/dist-packages/sklearn/metrics/classification.py:1135: UndefinedMetricWarning: F-score is ill-defined and being set to 0.0 in labels with no predicted samples.\n",
      "  'precision', 'predicted', average, warn_for)\n",
      "/usr/local/lib/python3.5/dist-packages/sklearn/metrics/classification.py:1135: UndefinedMetricWarning: F-score is ill-defined and being set to 0.0 in labels with no predicted samples.\n",
      "  'precision', 'predicted', average, warn_for)\n"
     ]
    },
    {
     "name": "stdout",
     "output_type": "stream",
     "text": [
      "RF: 0.316097 (0.003534)\n",
      "NB: 0.154557 (0.002538)\n"
     ]
    },
    {
     "data": {
      "image/png": "[encoded data removed]",
      "text/plain": [
       "<matplotlib.figure.Figure at 0x7fd21b2f2c18>"
      ]
     },
     "metadata": {},
     "output_type": "display_data"
    }
   ],
   "source": [
    "evaluate_model(['/data/conditioned/planetlabs/1154314_2014-07-23_RE2_3A_Analytic_clip.tif'],\\\n",
    "               {'width': 6, 'height': 6, 'stride': 6, 'padding': 0},\\\n",
    "               ['/data/conditioned/landsat/ClusterRaster10.tif'],\\\n",
    "              {'width': 1, 'height': 1, 'stride': 1},'f1_weighted')"
   ]
  },
  {
   "cell_type": "code",
   "execution_count": 28,
   "metadata": {},
   "outputs": [
    {
     "name": "stderr",
     "output_type": "stream",
     "text": [
      "/usr/local/lib/python3.5/dist-packages/sklearn/metrics/classification.py:1135: UndefinedMetricWarning: F-score is ill-defined and being set to 0.0 in labels with no predicted samples.\n",
      "  'precision', 'predicted', average, warn_for)\n",
      "/usr/local/lib/python3.5/dist-packages/sklearn/metrics/classification.py:1135: UndefinedMetricWarning: F-score is ill-defined and being set to 0.0 in labels with no predicted samples.\n",
      "  'precision', 'predicted', average, warn_for)\n",
      "/usr/local/lib/python3.5/dist-packages/sklearn/metrics/classification.py:1135: UndefinedMetricWarning: F-score is ill-defined and being set to 0.0 in labels with no predicted samples.\n",
      "  'precision', 'predicted', average, warn_for)\n",
      "/usr/local/lib/python3.5/dist-packages/sklearn/metrics/classification.py:1135: UndefinedMetricWarning: F-score is ill-defined and being set to 0.0 in labels with no predicted samples.\n",
      "  'precision', 'predicted', average, warn_for)\n",
      "/usr/local/lib/python3.5/dist-packages/sklearn/metrics/classification.py:1135: UndefinedMetricWarning: F-score is ill-defined and being set to 0.0 in labels with no predicted samples.\n",
      "  'precision', 'predicted', average, warn_for)\n",
      "/usr/local/lib/python3.5/dist-packages/sklearn/metrics/classification.py:1135: UndefinedMetricWarning: F-score is ill-defined and being set to 0.0 in labels with no predicted samples.\n",
      "  'precision', 'predicted', average, warn_for)\n",
      "/usr/local/lib/python3.5/dist-packages/sklearn/metrics/classification.py:1135: UndefinedMetricWarning: F-score is ill-defined and being set to 0.0 in labels with no predicted samples.\n",
      "  'precision', 'predicted', average, warn_for)\n",
      "/usr/local/lib/python3.5/dist-packages/sklearn/metrics/classification.py:1135: UndefinedMetricWarning: F-score is ill-defined and being set to 0.0 in labels with no predicted samples.\n",
      "  'precision', 'predicted', average, warn_for)\n",
      "/usr/local/lib/python3.5/dist-packages/sklearn/metrics/classification.py:1135: UndefinedMetricWarning: F-score is ill-defined and being set to 0.0 in labels with no predicted samples.\n",
      "  'precision', 'predicted', average, warn_for)\n"
     ]
    },
    {
     "name": "stdout",
     "output_type": "stream",
     "text": [
      "LDA: 0.502661 (0.002524)\n",
      "RF: 0.524842 (0.002959)\n",
      "NB: 0.337047 (0.004923)\n"
     ]
    },
    {
     "data": {
      "image/png": "[encoded data removed]",
      "text/plain": [
       "<matplotlib.figure.Figure at 0x7fd2465a16d8>"
      ]
     },
     "metadata": {},
     "output_type": "display_data"
    }
   ],
   "source": [
    "evaluate_model(['/data/conditioned/planetlabs/1154314_2014-07-23_RE2_3A_Analytic_clip.tif'],\\\n",
    "               {'width': 6, 'height': 6, 'stride': 6, 'padding': 0},\\\n",
    "               ['/data/conditioned/landfire/US_140FBFM13_3030_clipped.tif'],\\\n",
    "              {'width': 1, 'height': 1, 'stride': 1},'f1_weighted')"
   ]
  },
  {
   "cell_type": "code",
   "execution_count": 29,
   "metadata": {},
   "outputs": [
    {
     "name": "stderr",
     "output_type": "stream",
     "text": [
      "/usr/local/lib/python3.5/dist-packages/sklearn/metrics/classification.py:1135: UndefinedMetricWarning: F-score is ill-defined and being set to 0.0 in labels with no predicted samples.\n",
      "  'precision', 'predicted', average, warn_for)\n",
      "/usr/local/lib/python3.5/dist-packages/sklearn/metrics/classification.py:1135: UndefinedMetricWarning: F-score is ill-defined and being set to 0.0 in labels with no predicted samples.\n",
      "  'precision', 'predicted', average, warn_for)\n",
      "/usr/local/lib/python3.5/dist-packages/sklearn/metrics/classification.py:1135: UndefinedMetricWarning: F-score is ill-defined and being set to 0.0 in labels with no predicted samples.\n",
      "  'precision', 'predicted', average, warn_for)\n",
      "/usr/local/lib/python3.5/dist-packages/sklearn/metrics/classification.py:1135: UndefinedMetricWarning: F-score is ill-defined and being set to 0.0 in labels with no predicted samples.\n",
      "  'precision', 'predicted', average, warn_for)\n",
      "/usr/local/lib/python3.5/dist-packages/sklearn/metrics/classification.py:1135: UndefinedMetricWarning: F-score is ill-defined and being set to 0.0 in labels with no predicted samples.\n",
      "  'precision', 'predicted', average, warn_for)\n",
      "/usr/local/lib/python3.5/dist-packages/sklearn/metrics/classification.py:1135: UndefinedMetricWarning: F-score is ill-defined and being set to 0.0 in labels with no predicted samples.\n",
      "  'precision', 'predicted', average, warn_for)\n",
      "/usr/local/lib/python3.5/dist-packages/sklearn/metrics/classification.py:1135: UndefinedMetricWarning: F-score is ill-defined and being set to 0.0 in labels with no predicted samples.\n",
      "  'precision', 'predicted', average, warn_for)\n",
      "/usr/local/lib/python3.5/dist-packages/sklearn/metrics/classification.py:1135: UndefinedMetricWarning: F-score is ill-defined and being set to 0.0 in labels with no predicted samples.\n",
      "  'precision', 'predicted', average, warn_for)\n",
      "/usr/local/lib/python3.5/dist-packages/sklearn/metrics/classification.py:1135: UndefinedMetricWarning: F-score is ill-defined and being set to 0.0 in labels with no predicted samples.\n",
      "  'precision', 'predicted', average, warn_for)\n",
      "/usr/local/lib/python3.5/dist-packages/sklearn/metrics/classification.py:1135: UndefinedMetricWarning: F-score is ill-defined and being set to 0.0 in labels with no predicted samples.\n",
      "  'precision', 'predicted', average, warn_for)\n"
     ]
    },
    {
     "name": "stdout",
     "output_type": "stream",
     "text": [
      "LDA: 0.517224 (0.002331)\n"
     ]
    },
    {
     "name": "stderr",
     "output_type": "stream",
     "text": [
      "/usr/local/lib/python3.5/dist-packages/sklearn/metrics/classification.py:1135: UndefinedMetricWarning: F-score is ill-defined and being set to 0.0 in labels with no predicted samples.\n",
      "  'precision', 'predicted', average, warn_for)\n"
     ]
    },
    {
     "name": "stdout",
     "output_type": "stream",
     "text": [
      "RF: 0.543193 (0.003551)\n",
      "NB: 0.419532 (0.002412)\n"
     ]
    },
    {
     "data": {
      "image/png": "[encoded data removed]",
      "text/plain": [
       "<matplotlib.figure.Figure at 0x7fd24396aa90>"
      ]
     },
     "metadata": {},
     "output_type": "display_data"
    }
   ],
   "source": [
    "evaluate_model(['/data/conditioned/planetlabs/1154314_2014-07-23_RE2_3A_Analytic_clip.tif'],\\\n",
    "               {'width': 6, 'height': 6, 'stride': 6, 'padding': 0},\\\n",
    "               ['/data/conditioned/landfire/escondido_landcover_clipped.tif'],\\\n",
    "              {'width': 1, 'height': 1, 'stride': 1},'f1_weighted')"
   ]
  },
  {
   "cell_type": "code",
   "execution_count": 9,
   "metadata": {},
   "outputs": [
    {
     "name": "stderr",
     "output_type": "stream",
     "text": [
      "/usr/local/lib/python3.5/dist-packages/sklearn/discriminant_analysis.py:442: UserWarning: The priors do not sum to 1. Renormalizing\n",
      "  UserWarning)\n",
      "/usr/local/lib/python3.5/dist-packages/sklearn/discriminant_analysis.py:442: UserWarning: The priors do not sum to 1. Renormalizing\n",
      "  UserWarning)\n",
      "/usr/local/lib/python3.5/dist-packages/sklearn/discriminant_analysis.py:442: UserWarning: The priors do not sum to 1. Renormalizing\n",
      "  UserWarning)\n",
      "/usr/local/lib/python3.5/dist-packages/sklearn/discriminant_analysis.py:442: UserWarning: The priors do not sum to 1. Renormalizing\n",
      "  UserWarning)\n",
      "/usr/local/lib/python3.5/dist-packages/sklearn/discriminant_analysis.py:442: UserWarning: The priors do not sum to 1. Renormalizing\n",
      "  UserWarning)\n",
      "/usr/local/lib/python3.5/dist-packages/sklearn/metrics/classification.py:1135: UndefinedMetricWarning: F-score is ill-defined and being set to 0.0 in labels with no predicted samples.\n",
      "  'precision', 'predicted', average, warn_for)\n",
      "/usr/local/lib/python3.5/dist-packages/sklearn/metrics/classification.py:1135: UndefinedMetricWarning: F-score is ill-defined and being set to 0.0 in labels with no predicted samples.\n",
      "  'precision', 'predicted', average, warn_for)\n",
      "/usr/local/lib/python3.5/dist-packages/sklearn/metrics/classification.py:1135: UndefinedMetricWarning: F-score is ill-defined and being set to 0.0 in labels with no predicted samples.\n",
      "  'precision', 'predicted', average, warn_for)\n",
      "/usr/local/lib/python3.5/dist-packages/sklearn/metrics/classification.py:1135: UndefinedMetricWarning: F-score is ill-defined and being set to 0.0 in labels with no predicted samples.\n",
      "  'precision', 'predicted', average, warn_for)\n",
      "/usr/local/lib/python3.5/dist-packages/sklearn/metrics/classification.py:1135: UndefinedMetricWarning: F-score is ill-defined and being set to 0.0 in labels with no predicted samples.\n",
      "  'precision', 'predicted', average, warn_for)\n",
      "/usr/local/lib/python3.5/dist-packages/sklearn/metrics/classification.py:1135: UndefinedMetricWarning: F-score is ill-defined and being set to 0.0 in labels with no predicted samples.\n",
      "  'precision', 'predicted', average, warn_for)\n",
      "/usr/local/lib/python3.5/dist-packages/sklearn/metrics/classification.py:1135: UndefinedMetricWarning: F-score is ill-defined and being set to 0.0 in labels with no predicted samples.\n",
      "  'precision', 'predicted', average, warn_for)\n",
      "/usr/local/lib/python3.5/dist-packages/sklearn/metrics/classification.py:1135: UndefinedMetricWarning: F-score is ill-defined and being set to 0.0 in labels with no predicted samples.\n",
      "  'precision', 'predicted', average, warn_for)\n"
     ]
    },
    {
     "name": "stdout",
     "output_type": "stream",
     "text": [
      "LDA: 0.679672 (0.003613)\n"
     ]
    },
    {
     "name": "stderr",
     "output_type": "stream",
     "text": [
      "/usr/local/lib/python3.5/dist-packages/sklearn/metrics/classification.py:1135: UndefinedMetricWarning: F-score is ill-defined and being set to 0.0 in labels with no predicted samples.\n",
      "  'precision', 'predicted', average, warn_for)\n",
      "/usr/local/lib/python3.5/dist-packages/sklearn/metrics/classification.py:1135: UndefinedMetricWarning: F-score is ill-defined and being set to 0.0 in labels with no predicted samples.\n",
      "  'precision', 'predicted', average, warn_for)\n",
      "/usr/local/lib/python3.5/dist-packages/sklearn/metrics/classification.py:1135: UndefinedMetricWarning: F-score is ill-defined and being set to 0.0 in labels with no predicted samples.\n",
      "  'precision', 'predicted', average, warn_for)\n",
      "/usr/local/lib/python3.5/dist-packages/sklearn/metrics/classification.py:1135: UndefinedMetricWarning: F-score is ill-defined and being set to 0.0 in labels with no predicted samples.\n",
      "  'precision', 'predicted', average, warn_for)\n"
     ]
    },
    {
     "name": "stdout",
     "output_type": "stream",
     "text": [
      "RF: 0.662585 (0.003939)\n",
      "NB: 0.578367 (0.004432)\n"
     ]
    },
    {
     "data": {
      "image/png": "[encoded data removed]",
      "text/plain": [
       "<matplotlib.figure.Figure at 0x7f08a9de66d8>"
      ]
     },
     "metadata": {},
     "output_type": "display_data"
    }
   ],
   "source": [
    "evaluate_model(['/data/conditioned/planetlabs/1154314_2014-07-23_RE2_3A_Analytic_clip.tif'],\\\n",
    "               {'width': 6, 'height': 6, 'stride': 6, 'padding': 0},\\\n",
    "               ['/data/conditioned/landsat/ClusterRaster10.tif'],\\\n",
    "              {'width': 1, 'height': 1, 'stride': 1},'f1_weighted')"
   ]
  },
  {
   "cell_type": "code",
   "execution_count": 7,
   "metadata": {},
   "outputs": [
    {
     "name": "stderr",
     "output_type": "stream",
     "text": [
      "/usr/local/lib/python3.5/dist-packages/sklearn/metrics/classification.py:1135: UndefinedMetricWarning: F-score is ill-defined and being set to 0.0 in labels with no predicted samples.\n",
      "  'precision', 'predicted', average, warn_for)\n"
     ]
    },
    {
     "name": "stdout",
     "output_type": "stream",
     "text": [
      "LDA: 0.506925 (0.001712)\n"
     ]
    },
    {
     "name": "stderr",
     "output_type": "stream",
     "text": [
      "/usr/local/lib/python3.5/dist-packages/sklearn/metrics/classification.py:1135: UndefinedMetricWarning: F-score is ill-defined and being set to 0.0 in labels with no predicted samples.\n",
      "  'precision', 'predicted', average, warn_for)\n",
      "/usr/local/lib/python3.5/dist-packages/sklearn/metrics/classification.py:1135: UndefinedMetricWarning: F-score is ill-defined and being set to 0.0 in labels with no predicted samples.\n",
      "  'precision', 'predicted', average, warn_for)\n"
     ]
    },
    {
     "name": "stdout",
     "output_type": "stream",
     "text": [
      "RF: 0.477424 (0.002855)\n",
      "NB: 0.404175 (0.004170)\n"
     ]
    },
    {
     "data": {
      "image/png": "[encoded data removed]",
      "text/plain": [
       "<matplotlib.figure.Figure at 0x7f9c7a50c320>"
      ]
     },
     "metadata": {},
     "output_type": "display_data"
    }
   ],
   "source": [
    "evaluate_model(['/data/conditioned/planetlabs/1154314_2014-07-23_RE2_3A_Analytic_clip.tif'],\\\n",
    "               {'width': 6, 'height': 6, 'stride': 6, 'padding': 0},\\\n",
    "               ['/data/conditioned/landsat/ClusterRaster24.tif'],\\\n",
    "              {'width': 1, 'height': 1, 'stride': 1},'f1_weighted')"
   ]
  },
  {
   "cell_type": "code",
   "execution_count": 11,
   "metadata": {},
   "outputs": [
    {
     "name": "stdout",
     "output_type": "stream",
     "text": [
      "Out-of-bag score estimate: 0.29248039740904885\n",
      "Mean accuracy score: 0.34983766233766234\n",
      "             precision    recall  f1-score   support\n",
      "\n",
      "       3092       0.37      0.55      0.44      4532\n",
      "       3097       0.06      0.02      0.03       248\n",
      "       3099       0.07      0.01      0.02       225\n",
      "       3110       0.25      0.10      0.15       925\n",
      "       3118       0.19      0.12      0.14       681\n",
      "       3129       0.48      0.62      0.54      5847\n",
      "       3130       0.00      0.00      0.00       192\n",
      "       3152       0.32      0.23      0.27       172\n",
      "       3184       0.18      0.13      0.15      1096\n",
      "       3292       0.82      0.94      0.88       401\n",
      "       3294       0.14      0.04      0.07       257\n",
      "       3296       0.26      0.40      0.31      3502\n",
      "       3297       0.40      0.52      0.45      3173\n",
      "       3298       0.39      0.27      0.32       651\n",
      "       3299       0.20      0.13      0.16      3063\n",
      "       3900       0.24      0.08      0.12       119\n",
      "       3902       0.09      0.02      0.03       166\n",
      "       3903       0.00      0.00      0.00       116\n",
      "       3904       0.14      0.01      0.02       114\n",
      "       3910       0.24      0.15      0.19       622\n",
      "       3912       0.06      0.01      0.02       613\n",
      "       3913       0.15      0.07      0.09      2040\n",
      "       3914       0.08      0.03      0.04      1793\n",
      "       3929       0.27      0.07      0.11       252\n",
      "\n",
      "avg / total       0.30      0.35      0.31     30800\n",
      "\n"
     ]
    },
    {
     "name": "stderr",
     "output_type": "stream",
     "text": [
      "/usr/local/lib/python3.5/dist-packages/sklearn/ensemble/forest.py:453: UserWarning: Some inputs do not have OOB scores. This probably means too few trees were used to compute any reliable oob estimates.\n",
      "  warn(\"Some inputs do not have OOB scores. \"\n",
      "/usr/local/lib/python3.5/dist-packages/sklearn/ensemble/forest.py:458: RuntimeWarning: invalid value encountered in true_divide\n",
      "  predictions[k].sum(axis=1)[:, np.newaxis])\n"
     ]
    }
   ],
   "source": [
    "f1_report(['/data/conditioned/planetlabs/1154314_2014-07-23_RE2_3A_Analytic_clip.tif'],\\\n",
    "               {'width': 6, 'height': 6, 'stride': 6, 'padding': 0},\\\n",
    "               ['/data/conditioned/landfire/US_140EVT_020818_UTM11_30_clipped.tif'],\\\n",
    "              {'width': 1, 'height': 1, 'stride': 1})"
   ]
  },
  {
   "cell_type": "code",
   "execution_count": 12,
   "metadata": {},
   "outputs": [
    {
     "name": "stdout",
     "output_type": "stream",
     "text": [
      "Out-of-bag score estimate: 0.47817242492734907\n",
      "Mean accuracy score: 0.5519535033903777\n",
      "             precision    recall  f1-score   support\n",
      "\n",
      "          1       0.48      0.59      0.53      8543\n",
      "          2       0.21      0.09      0.13      3389\n",
      "          4       0.13      0.01      0.03       417\n",
      "          5       0.54      0.53      0.54      5849\n",
      "          8       0.30      0.14      0.19      1000\n",
      "          9       0.30      0.18      0.22       746\n",
      "         91       0.67      0.77      0.72     10355\n",
      "         98       0.85      0.90      0.87       402\n",
      "         99       0.40      0.02      0.04       269\n",
      "\n",
      "avg / total       0.52      0.55      0.53     30970\n",
      "\n"
     ]
    },
    {
     "name": "stderr",
     "output_type": "stream",
     "text": [
      "/usr/local/lib/python3.5/dist-packages/sklearn/ensemble/forest.py:453: UserWarning: Some inputs do not have OOB scores. This probably means too few trees were used to compute any reliable oob estimates.\n",
      "  warn(\"Some inputs do not have OOB scores. \"\n",
      "/usr/local/lib/python3.5/dist-packages/sklearn/ensemble/forest.py:458: RuntimeWarning: invalid value encountered in true_divide\n",
      "  predictions[k].sum(axis=1)[:, np.newaxis])\n"
     ]
    }
   ],
   "source": [
    "f1_report(['/data/conditioned/planetlabs/1154314_2014-07-23_RE2_3A_Analytic_clip.tif'],\\\n",
    "               {'width': 6, 'height': 6, 'stride': 6, 'padding': 0},\\\n",
    "               ['/data/conditioned/landfire/US_140FBFM13_3030_clipped.tif'],\\\n",
    "              {'width': 1, 'height': 1, 'stride': 1})"
   ]
  },
  {
   "cell_type": "code",
   "execution_count": 13,
   "metadata": {},
   "outputs": [
    {
     "name": "stdout",
     "output_type": "stream",
     "text": [
      "Out-of-bag score estimate: 0.5048937790669411\n",
      "Mean accuracy score: 0.567085817993259\n",
      "             precision    recall  f1-score   support\n",
      "\n",
      "         11       0.84      0.93      0.88       500\n",
      "         21       0.40      0.49      0.44      6748\n",
      "         22       0.35      0.31      0.33      4529\n",
      "         23       0.55      0.59      0.57      3990\n",
      "         24       0.51      0.29      0.37       864\n",
      "         31       0.23      0.03      0.06       307\n",
      "         43       0.25      0.01      0.03       135\n",
      "         52       0.76      0.85      0.80     11061\n",
      "         71       0.31      0.10      0.16      2355\n",
      "         82       0.52      0.14      0.22       239\n",
      "         90       0.30      0.02      0.04       128\n",
      "\n",
      "avg / total       0.54      0.57      0.55     30856\n",
      "\n"
     ]
    },
    {
     "name": "stderr",
     "output_type": "stream",
     "text": [
      "/usr/local/lib/python3.5/dist-packages/sklearn/ensemble/forest.py:453: UserWarning: Some inputs do not have OOB scores. This probably means too few trees were used to compute any reliable oob estimates.\n",
      "  warn(\"Some inputs do not have OOB scores. \"\n",
      "/usr/local/lib/python3.5/dist-packages/sklearn/ensemble/forest.py:458: RuntimeWarning: invalid value encountered in true_divide\n",
      "  predictions[k].sum(axis=1)[:, np.newaxis])\n"
     ]
    }
   ],
   "source": [
    "f1_report(['/data/conditioned/planetlabs/1154314_2014-07-23_RE2_3A_Analytic_clip.tif'],\\\n",
    "               {'width': 6, 'height': 6, 'stride': 6, 'padding': 0},\\\n",
    "               ['/data/conditioned/landfire/escondido_landcover_clipped.tif'],\\\n",
    "              {'width': 1, 'height': 1, 'stride': 1})"
   ]
  },
  {
   "cell_type": "code",
   "execution_count": 8,
   "metadata": {},
   "outputs": [
    {
     "name": "stdout",
     "output_type": "stream",
     "text": [
      "Out-of-bag score estimate: 0.6040967200413223\n",
      "Mean accuracy score: 0.66380423553719\n",
      "             precision    recall  f1-score   support\n",
      "\n",
      "          0       0.73      0.76      0.75      6496\n",
      "          1       0.61      0.69      0.65      3917\n",
      "          2       0.68      0.59      0.63       120\n",
      "          3       0.00      0.00      0.00       181\n",
      "          4       0.69      0.72      0.71      6951\n",
      "          5       0.67      0.58      0.62      1171\n",
      "          6       0.67      0.64      0.65      2498\n",
      "          7       0.55      0.58      0.57      4800\n",
      "          8       0.95      0.92      0.93       546\n",
      "          9       0.64      0.53      0.58      4296\n",
      "\n",
      "avg / total       0.66      0.66      0.66     30976\n",
      "\n"
     ]
    },
    {
     "name": "stderr",
     "output_type": "stream",
     "text": [
      "/usr/local/lib/python3.5/dist-packages/sklearn/ensemble/forest.py:453: UserWarning: Some inputs do not have OOB scores. This probably means too few trees were used to compute any reliable oob estimates.\n",
      "  warn(\"Some inputs do not have OOB scores. \"\n",
      "/usr/local/lib/python3.5/dist-packages/sklearn/ensemble/forest.py:458: RuntimeWarning: invalid value encountered in true_divide\n",
      "  predictions[k].sum(axis=1)[:, np.newaxis])\n"
     ]
    }
   ],
   "source": [
    "f1_report(['/data/conditioned/planetlabs/1154314_2014-07-23_RE2_3A_Analytic_clip.tif'],\\\n",
    "               {'width': 6, 'height': 6, 'stride': 6, 'padding': 0},\\\n",
    "               ['/data/conditioned/landsat/ClusterRaster10.tif'],\\\n",
    "              {'width': 1, 'height': 1, 'stride': 1})"
   ]
  },
  {
   "cell_type": "code",
   "execution_count": 9,
   "metadata": {},
   "outputs": [
    {
     "name": "stderr",
     "output_type": "stream",
     "text": [
      "/usr/local/lib/python3.5/dist-packages/sklearn/ensemble/forest.py:453: UserWarning: Some inputs do not have OOB scores. This probably means too few trees were used to compute any reliable oob estimates.\n",
      "  warn(\"Some inputs do not have OOB scores. \"\n",
      "/usr/local/lib/python3.5/dist-packages/sklearn/ensemble/forest.py:458: RuntimeWarning: invalid value encountered in true_divide\n",
      "  predictions[k].sum(axis=1)[:, np.newaxis])\n"
     ]
    },
    {
     "name": "stdout",
     "output_type": "stream",
     "text": [
      "Out-of-bag score estimate: 0.4109942352627281\n",
      "Mean accuracy score: 0.47947996507228097\n",
      "             precision    recall  f1-score   support\n",
      "\n",
      "          0       0.35      0.44      0.39      1316\n",
      "          1       0.65      0.69      0.67      2760\n",
      "          2       0.38      0.44      0.41      1497\n",
      "          3       0.79      0.83      0.81       983\n",
      "          4       0.48      0.49      0.49       352\n",
      "          5       0.48      0.52      0.50      1098\n",
      "          6       0.00      0.00      0.00        94\n",
      "          7       0.90      0.95      0.93       531\n",
      "          8       0.35      0.42      0.38      2142\n",
      "          9       0.42      0.47      0.44      1604\n",
      "         11       0.68      0.59      0.63       446\n",
      "         12       0.35      0.35      0.35      1910\n",
      "         13       0.55      0.54      0.54      1282\n",
      "         14       0.46      0.52      0.49      3679\n",
      "         16       0.26      0.17      0.21      1358\n",
      "         17       0.49      0.45      0.47      2641\n",
      "         18       0.51      0.31      0.38        95\n",
      "         19       0.56      0.43      0.49       525\n",
      "         20       0.37      0.30      0.33      1973\n",
      "         21       0.55      0.50      0.52      3692\n",
      "         22       0.49      0.38      0.43       778\n",
      "         23       0.50      0.02      0.04       165\n",
      "\n",
      "avg / total       0.48      0.48      0.48     30921\n",
      "\n"
     ]
    }
   ],
   "source": [
    "f1_report(['/data/conditioned/planetlabs/1154314_2014-07-23_RE2_3A_Analytic_clip.tif'],\\\n",
    "               {'width': 6, 'height': 6, 'stride': 6, 'padding': 0},\\\n",
    "               ['/data/conditioned/landsat/ClusterRaster24.tif'],\\\n",
    "              {'width': 1, 'height': 1, 'stride': 1})"
   ]
  },
  {
   "cell_type": "code",
   "execution_count": null,
   "metadata": {},
   "outputs": [],
   "source": []
  }
 ],
 "metadata": {
  "kernelspec": {
   "display_name": "Python 3",
   "language": "python",
   "name": "python3"
  },
  "language_info": {
   "codemirror_mode": {
    "name": "ipython",
    "version": 3
   },
   "file_extension": ".py",
   "mimetype": "text/x-python",
   "name": "python",
   "nbconvert_exporter": "python",
   "pygments_lexer": "ipython3",
   "version": "3.5.2"
  },
  "toc": {
   "colors": {
    "hover_highlight": "#DAA520",
    "running_highlight": "#FF0000",
    "selected_highlight": "#FFD700"
   },
   "moveMenuLeft": true,
   "nav_menu": {
    "height": "12px",
    "width": "252px"
   },
   "navigate_menu": true,
   "number_sections": true,
   "sideBar": true,
   "threshold": 4,
   "toc_cell": false,
   "toc_section_display": "block",
   "toc_window_display": false,
   "widenNotebook": false
  }
 },
 "nbformat": 4,
 "nbformat_minor": 2
}
