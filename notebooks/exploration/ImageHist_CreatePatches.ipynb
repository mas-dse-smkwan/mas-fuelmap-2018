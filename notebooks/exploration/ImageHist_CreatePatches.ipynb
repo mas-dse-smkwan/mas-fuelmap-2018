{
 "cells": [
  {
   "cell_type": "code",
   "execution_count": 1,
   "metadata": {
    "collapsed": true
   },
   "outputs": [],
   "source": [
    "import numpy as np\n",
    "import pandas as pd\n",
    "from PIL import Image,ImageEnhance\n",
    "import os\n",
    "from osgeo import osr, gdal,gdal_array\n",
    "from fractions import gcd\n",
    "import math\n",
    "import pathlib"
   ]
  },
  {
   "cell_type": "code",
   "execution_count": 2,
   "metadata": {
    "collapsed": true
   },
   "outputs": [],
   "source": [
    "output_dir = \"data/tiles\"\n",
    "raw_file_location = \"../data/digitalglobe/Escondido2014_utm_forcep5_clip.tif\"\n",
    "raw_file_name = \"Escondido2014_utm_forcep5_clip\"\n",
    "#raw_file_location = \"../data/planet_imagery/1154314_2014-07-23_RE2_3A_Analytic_clip.tif\"\n",
    "#raw_file_name = \"1154314_2014-07-23_RE2_3A_Analytic_clip\"\n",
    "#raw_file_location = \"l8b30f30clip.tif\"\n",
    "#raw_file_name = \"l8b30f30clip\"\n",
    "\n",
    "# red, green, blue bands\n",
    "color_band_order = [0,1,2]\n",
    "#color_band_order = [4,3,2]\n",
    "\n",
    "# square size\n",
    "squaresize = 10"
   ]
  },
  {
   "cell_type": "code",
   "execution_count": 3,
   "metadata": {
    "collapsed": true
   },
   "outputs": [],
   "source": [
    "ds = gdal.Open(raw_file_location, gdal.GA_ReadOnly)\n",
    "# DataType is a property of the individual raster bands\n",
    "image_datatype = ds.GetRasterBand(1).DataType\n",
    "\n",
    "# Allocate our array, but in a more efficient way\n",
    "image_correct = np.zeros((ds.RasterYSize, ds.RasterXSize, ds.RasterCount),\n",
    "                 dtype=gdal_array.GDALTypeCodeToNumericTypeCode(image_datatype))\n",
    "\n",
    "# Loop over all bands in dataset\n",
    "#for b in range(ds.RasterCount):\n",
    "for b in range(ds.RasterCount):\n",
    "    # Remember, GDAL index is on 1, but Python is on 0 -- so we add 1 for our GDAL calls\n",
    "    band = ds.GetRasterBand(b + 1)\n",
    "    \n",
    "    # Read in the band's data into the third dimension of our array\n",
    "    image_correct[:, :, b] = band.ReadAsArray()\n",
    "\n",
    "# Order the bands into red, green, blue\n",
    "image_correct = image_correct[:, :, color_band_order]"
   ]
  },
  {
   "cell_type": "code",
   "execution_count": 4,
   "metadata": {},
   "outputs": [
    {
     "name": "stdout",
     "output_type": "stream",
     "text": [
      "480894.4629851412 3667501.770068448\n"
     ]
    }
   ],
   "source": [
    "cols = ds.RasterXSize\n",
    "rows = ds.RasterYSize\n",
    "\n",
    "transform = ds.GetGeoTransform()\n",
    "minx = transform[0]\n",
    "maxx = transform[0] + cols * transform[1] + rows * transform[2]\n",
    "\n",
    "miny = transform[3] + cols * transform[4] + rows * transform[5]\n",
    "maxy = transform[3]\n",
    "\n",
    "width = maxx - minx\n",
    "height = maxy - miny\n",
    "\n",
    "xOrigin = transform[0]\n",
    "yOrigin = transform[3]\n",
    "pixelWidth = transform[1]\n",
    "pixelHeight = -transform[5]\n",
    "\n",
    "print (xOrigin, yOrigin)"
   ]
  },
  {
   "cell_type": "code",
   "execution_count": 5,
   "metadata": {},
   "outputs": [
    {
     "name": "stdout",
     "output_type": "stream",
     "text": [
      "29045 19200\n",
      "2904 1920\n"
     ]
    }
   ],
   "source": [
    "m = int(rows/squaresize)\n",
    "n = int(cols/squaresize)\n",
    "\n",
    "print (rows,cols)\n",
    "print (m,n)"
   ]
  },
  {
   "cell_type": "code",
   "execution_count": 7,
   "metadata": {},
   "outputs": [
    {
     "ename": "KeyboardInterrupt",
     "evalue": "",
     "output_type": "error",
     "traceback": [
      "\u001b[0;31m---------------------------------------------------------------------------\u001b[0m",
      "\u001b[0;31mKeyboardInterrupt\u001b[0m                         Traceback (most recent call last)",
      "\u001b[0;32m<ipython-input-7-23f3bf07eeca>\u001b[0m in \u001b[0;36m<module>\u001b[0;34m()\u001b[0m\n\u001b[1;32m     47\u001b[0m \u001b[0;34m\u001b[0m\u001b[0m\n\u001b[1;32m     48\u001b[0m         \u001b[0;31m# setting spatial reference of output raster\u001b[0m\u001b[0;34m\u001b[0m\u001b[0;34m\u001b[0m\u001b[0m\n\u001b[0;32m---> 49\u001b[0;31m         \u001b[0msrs\u001b[0m \u001b[0;34m=\u001b[0m \u001b[0mosr\u001b[0m\u001b[0;34m.\u001b[0m\u001b[0mSpatialReference\u001b[0m\u001b[0;34m(\u001b[0m\u001b[0;34m)\u001b[0m\u001b[0;34m\u001b[0m\u001b[0m\n\u001b[0m\u001b[1;32m     50\u001b[0m         \u001b[0msrs\u001b[0m\u001b[0;34m.\u001b[0m\u001b[0mImportFromWkt\u001b[0m\u001b[0;34m(\u001b[0m\u001b[0mwkt\u001b[0m\u001b[0;34m)\u001b[0m\u001b[0;34m\u001b[0m\u001b[0m\n\u001b[1;32m     51\u001b[0m         \u001b[0mdst_ds\u001b[0m\u001b[0;34m.\u001b[0m\u001b[0mSetProjection\u001b[0m\u001b[0;34m(\u001b[0m \u001b[0msrs\u001b[0m\u001b[0;34m.\u001b[0m\u001b[0mExportToWkt\u001b[0m\u001b[0;34m(\u001b[0m\u001b[0;34m)\u001b[0m \u001b[0;34m)\u001b[0m\u001b[0;34m\u001b[0m\u001b[0m\n",
      "\u001b[0;32m/Users/vincentsiu/anaconda/envs/py36/lib/python3.6/site-packages/osgeo/osr.py\u001b[0m in \u001b[0;36m__init__\u001b[0;34m(self, *args, **kwargs)\u001b[0m\n\u001b[1;32m    641\u001b[0m     \u001b[0;32mdef\u001b[0m \u001b[0m__init__\u001b[0m\u001b[0;34m(\u001b[0m\u001b[0mself\u001b[0m\u001b[0;34m,\u001b[0m \u001b[0;34m*\u001b[0m\u001b[0margs\u001b[0m\u001b[0;34m,\u001b[0m \u001b[0;34m**\u001b[0m\u001b[0mkwargs\u001b[0m\u001b[0;34m)\u001b[0m\u001b[0;34m:\u001b[0m\u001b[0;34m\u001b[0m\u001b[0m\n\u001b[1;32m    642\u001b[0m         \u001b[0;34m\"\"\"__init__(OSRSpatialReferenceShadow self, char const * wkt) -> SpatialReference\"\"\"\u001b[0m\u001b[0;34m\u001b[0m\u001b[0m\n\u001b[0;32m--> 643\u001b[0;31m         \u001b[0mthis\u001b[0m \u001b[0;34m=\u001b[0m \u001b[0m_osr\u001b[0m\u001b[0;34m.\u001b[0m\u001b[0mnew_SpatialReference\u001b[0m\u001b[0;34m(\u001b[0m\u001b[0;34m*\u001b[0m\u001b[0margs\u001b[0m\u001b[0;34m,\u001b[0m \u001b[0;34m**\u001b[0m\u001b[0mkwargs\u001b[0m\u001b[0;34m)\u001b[0m\u001b[0;34m\u001b[0m\u001b[0m\n\u001b[0m\u001b[1;32m    644\u001b[0m         \u001b[0;32mtry\u001b[0m\u001b[0;34m:\u001b[0m\u001b[0;34m\u001b[0m\u001b[0m\n\u001b[1;32m    645\u001b[0m             \u001b[0mself\u001b[0m\u001b[0;34m.\u001b[0m\u001b[0mthis\u001b[0m\u001b[0;34m.\u001b[0m\u001b[0mappend\u001b[0m\u001b[0;34m(\u001b[0m\u001b[0mthis\u001b[0m\u001b[0;34m)\u001b[0m\u001b[0;34m\u001b[0m\u001b[0m\n",
      "\u001b[0;31mKeyboardInterrupt\u001b[0m: "
     ]
    }
   ],
   "source": [
    "\n",
    "driver = gdal.GetDriverByName('GTiff')\n",
    "pathlib.Path(os.path.join(output_dir, raw_file_name, 'geotiff')).mkdir(parents=True, exist_ok=True) \n",
    "\n",
    "tile_num = 0\n",
    "\n",
    "for j in range(m, 0, -1):\n",
    "    for i in range(0, n):\n",
    "        ulx = minx + (width/n) * i \n",
    "        uly = miny + (height/m) * j \n",
    "        i1 = int((ulx - xOrigin) / pixelWidth)\n",
    "        j1 = int((yOrigin - uly)  / pixelHeight)\n",
    "        new_x = xOrigin + i1*pixelWidth\n",
    "        new_y = yOrigin - j1*pixelHeight\n",
    "        new_transform = (new_x, transform[1], transform[2], new_y, transform[4], transform[5])\n",
    "        \n",
    "        output_file_base = raw_file_name + str(tile_num) + \".tif\"\n",
    "        output_file = os.path.join(output_dir, raw_file_name, 'geotiff', output_file_base)\n",
    "        \n",
    "        #print('a',str((m-j)*squaresize),str((m-j)*squaresize+squaresize),str(i*squaresize),str(i*squaresize+squaresize))\n",
    "        #print(image_correct[(m-j)*squaresize:(m-j)*squaresize+squaresize, i*squaresize:i*squaresize+squaresize, :].shape)\n",
    "\n",
    "        actual_shape = image_correct[(m-j)*squaresize:(m-j)*squaresize+squaresize, i*squaresize:i*squaresize+squaresize, :].shape\n",
    "        \n",
    "        dst_ds = driver.Create(output_file,\n",
    "                               actual_shape[1],\n",
    "                               actual_shape[0],\n",
    "                               3,\n",
    "                               gdal.GDT_Float32, options = [ 'PHOTOMETRIC=RGB' ])\n",
    "\n",
    "        #writting output raster\n",
    "        #dst_ds.GetRasterBand(1).WriteArray( data )\n",
    "        for b in range(3):\n",
    "            dst_ds.GetRasterBand(b + 1).WriteArray(image_correct[(m-j)*squaresize:(m-j)*squaresize+squaresize, i*squaresize:i*squaresize+squaresize, b])\n",
    "\n",
    "        tif_metadata = {\n",
    "            \"minX\": str(minx), \"maxX\": str(maxx),\n",
    "            \"minY\": str(miny), \"maxY\": str(maxy)\n",
    "        }\n",
    "        dst_ds.SetMetadata(tif_metadata)\n",
    "\n",
    "        #setting extension of output raster\n",
    "        # top left x, w-e pixel resolution, rotation, top left y, rotation, n-s pixel resolution\n",
    "        dst_ds.SetGeoTransform(new_transform)\n",
    "\n",
    "        wkt = ds.GetProjection()\n",
    "\n",
    "        # setting spatial reference of output raster\n",
    "        srs = osr.SpatialReference()\n",
    "        srs.ImportFromWkt(wkt)\n",
    "        dst_ds.SetProjection( srs.ExportToWkt() )\n",
    "\n",
    "        #Close output raster dataset\n",
    "        dst_ds = None\n",
    "        tile_num += 1"
   ]
  },
  {
   "cell_type": "code",
   "execution_count": 8,
   "metadata": {},
   "outputs": [
    {
     "ename": "KeyboardInterrupt",
     "evalue": "",
     "output_type": "error",
     "traceback": [
      "\u001b[0;31m---------------------------------------------------------------------------\u001b[0m",
      "\u001b[0;31mKeyboardInterrupt\u001b[0m                         Traceback (most recent call last)",
      "\u001b[0;32m<ipython-input-8-ac94d9e1fe8c>\u001b[0m in \u001b[0;36m<module>\u001b[0;34m()\u001b[0m\n\u001b[1;32m     11\u001b[0m     \u001b[0mred\u001b[0m \u001b[0;34m=\u001b[0m \u001b[0mImage\u001b[0m\u001b[0;34m.\u001b[0m\u001b[0mfromarray\u001b[0m\u001b[0;34m(\u001b[0m\u001b[0mlist_patches\u001b[0m\u001b[0;34m[\u001b[0m\u001b[0mx\u001b[0m\u001b[0;34m]\u001b[0m\u001b[0;34m[\u001b[0m\u001b[0;34m:\u001b[0m\u001b[0;34m,\u001b[0m\u001b[0;34m:\u001b[0m\u001b[0;34m,\u001b[0m\u001b[0;36m0\u001b[0m\u001b[0;34m]\u001b[0m\u001b[0;34m,\u001b[0m \u001b[0;34m\"L\"\u001b[0m\u001b[0;34m)\u001b[0m\u001b[0;34m\u001b[0m\u001b[0m\n\u001b[1;32m     12\u001b[0m     \u001b[0mout\u001b[0m \u001b[0;34m=\u001b[0m \u001b[0mImage\u001b[0m\u001b[0;34m.\u001b[0m\u001b[0mmerge\u001b[0m\u001b[0;34m(\u001b[0m\u001b[0;34m\"RGB\"\u001b[0m\u001b[0;34m,\u001b[0m \u001b[0;34m(\u001b[0m\u001b[0mred\u001b[0m\u001b[0;34m,\u001b[0m \u001b[0mgreen\u001b[0m\u001b[0;34m,\u001b[0m \u001b[0mblue\u001b[0m\u001b[0;34m)\u001b[0m\u001b[0;34m)\u001b[0m\u001b[0;34m\u001b[0m\u001b[0m\n\u001b[0;32m---> 13\u001b[0;31m     \u001b[0mout\u001b[0m\u001b[0;34m.\u001b[0m\u001b[0msave\u001b[0m\u001b[0;34m(\u001b[0m\u001b[0mos\u001b[0m\u001b[0;34m.\u001b[0m\u001b[0mpath\u001b[0m\u001b[0;34m.\u001b[0m\u001b[0mjoin\u001b[0m\u001b[0;34m(\u001b[0m\u001b[0moutput_dir\u001b[0m\u001b[0;34m,\u001b[0m \u001b[0mraw_file_name\u001b[0m\u001b[0;34m,\u001b[0m \u001b[0;34m'jpg'\u001b[0m\u001b[0;34m,\u001b[0m \u001b[0mraw_file_name\u001b[0m \u001b[0;34m+\u001b[0m\u001b[0mstr\u001b[0m\u001b[0;34m(\u001b[0m\u001b[0mx\u001b[0m\u001b[0;34m)\u001b[0m\u001b[0;34m+\u001b[0m\u001b[0;34m\".jpg\"\u001b[0m\u001b[0;34m)\u001b[0m\u001b[0;34m)\u001b[0m\u001b[0;34m\u001b[0m\u001b[0m\n\u001b[0m",
      "\u001b[0;32m/Users/vincentsiu/anaconda/envs/py36/lib/python3.6/site-packages/PIL/Image.py\u001b[0m in \u001b[0;36msave\u001b[0;34m(self, fp, format, **params)\u001b[0m\n\u001b[1;32m   1932\u001b[0m             \u001b[0;31m# do what we can to clean up\u001b[0m\u001b[0;34m\u001b[0m\u001b[0;34m\u001b[0m\u001b[0m\n\u001b[1;32m   1933\u001b[0m             \u001b[0;32mif\u001b[0m \u001b[0mopen_fp\u001b[0m\u001b[0;34m:\u001b[0m\u001b[0;34m\u001b[0m\u001b[0m\n\u001b[0;32m-> 1934\u001b[0;31m                 \u001b[0mfp\u001b[0m\u001b[0;34m.\u001b[0m\u001b[0mclose\u001b[0m\u001b[0;34m(\u001b[0m\u001b[0;34m)\u001b[0m\u001b[0;34m\u001b[0m\u001b[0m\n\u001b[0m\u001b[1;32m   1935\u001b[0m \u001b[0;34m\u001b[0m\u001b[0m\n\u001b[1;32m   1936\u001b[0m     \u001b[0;32mdef\u001b[0m \u001b[0mseek\u001b[0m\u001b[0;34m(\u001b[0m\u001b[0mself\u001b[0m\u001b[0;34m,\u001b[0m \u001b[0mframe\u001b[0m\u001b[0;34m)\u001b[0m\u001b[0;34m:\u001b[0m\u001b[0;34m\u001b[0m\u001b[0m\n",
      "\u001b[0;31mKeyboardInterrupt\u001b[0m: "
     ]
    }
   ],
   "source": [
    "list_patches = []\n",
    "pathlib.Path(os.path.join(output_dir, raw_file_name, 'jpg')).mkdir(parents=True, exist_ok=True) \n",
    "\n",
    "for j in range(m, 0, -1):\n",
    "    for i in range(0, n):\n",
    "        list_patches.append(image_correct[(m-j)*squaresize:(m-j)*squaresize+squaresize, i*squaresize:i*squaresize+squaresize, :])\n",
    "            \n",
    "for x in range(len(list_patches)):\n",
    "    blue = Image.fromarray(list_patches[x][:,:,2], \"L\")\n",
    "    green = Image.fromarray(list_patches[x][:,:,1], \"L\")\n",
    "    red = Image.fromarray(list_patches[x][:,:,0], \"L\")\n",
    "    out = Image.merge(\"RGB\", (red, green, blue))\n",
    "    out.save(os.path.join(output_dir, raw_file_name, 'jpg', raw_file_name +str(x)+\".jpg\"))"
   ]
  },
  {
   "cell_type": "code",
   "execution_count": null,
   "metadata": {
    "collapsed": true
   },
   "outputs": [],
   "source": []
  }
 ],
 "metadata": {
  "kernelspec": {
   "display_name": "Python [conda env:py36]",
   "language": "python",
   "name": "conda-env-py36-py"
  },
  "language_info": {
   "codemirror_mode": {
    "name": "ipython",
    "version": 3
   },
   "file_extension": ".py",
   "mimetype": "text/x-python",
   "name": "python",
   "nbconvert_exporter": "python",
   "pygments_lexer": "ipython3",
   "version": "3.6.4"
  },
  "toc": {
   "colors": {
    "hover_highlight": "#DAA520",
    "running_highlight": "#FF0000",
    "selected_highlight": "#FFD700"
   },
   "moveMenuLeft": true,
   "nav_menu": {
    "height": "12px",
    "width": "252px"
   },
   "navigate_menu": true,
   "number_sections": true,
   "sideBar": true,
   "threshold": 4,
   "toc_cell": false,
   "toc_section_display": "block",
   "toc_window_display": false,
   "widenNotebook": false
  }
 },
 "nbformat": 4,
 "nbformat_minor": 2
}
