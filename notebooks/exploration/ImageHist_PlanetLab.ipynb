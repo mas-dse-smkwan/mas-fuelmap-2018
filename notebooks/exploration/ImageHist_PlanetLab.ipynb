{
 "cells": [
  {
   "cell_type": "code",
   "execution_count": 1,
   "metadata": {},
   "outputs": [],
   "source": [
    "import numpy as np\n",
    "import os\n",
    "import pandas as pd\n",
    "from sklearn import cluster\n",
    "import shutil\n",
    "np.random.seed(0)\n",
    "import pathlib2"
   ]
  },
  {
   "cell_type": "code",
   "execution_count": 2,
   "metadata": {
    "collapsed": true
   },
   "outputs": [],
   "source": [
    "import sys\n",
    "sys.path.insert(0,'../../pyImagePlot/')\n",
    "\n",
    "from PyImagePlot import montage_manager"
   ]
  },
  {
   "cell_type": "code",
   "execution_count": 3,
   "metadata": {
    "collapsed": true
   },
   "outputs": [],
   "source": [
    "def quantile_function(df, quantile_point, col = 'dist'):\n",
    "    #Get the quantile value\n",
    "    quantile_value = df.quantile(quantile_point)[col]\n",
    "    #Select the data in the group that falls at or below the quantile value and return it\n",
    "    return df[df[col] <= quantile_value]"
   ]
  },
  {
   "cell_type": "code",
   "execution_count": 4,
   "metadata": {
    "collapsed": true
   },
   "outputs": [],
   "source": [
    "from osgeo import osr, gdal,gdal_array\n",
    "\n",
    "ds = gdal.Open(\"../data/planet_imagery/1154314_2014-07-23_RE2_3A_Analytic_clip.tif\", gdal.GA_ReadOnly)\n",
    "# DataType is a property of the individual raster bands\n",
    "image_datatype = ds.GetRasterBand(1).DataType\n",
    "\n",
    "# Allocate our array, but in a more efficient way\n",
    "image_correct = np.zeros((ds.RasterYSize, ds.RasterXSize, ds.RasterCount),\n",
    "                 dtype=gdal_array.GDALTypeCodeToNumericTypeCode(image_datatype))\n",
    "\n",
    "# Loop over all bands in dataset\n",
    "for b in range(ds.RasterCount):\n",
    "    # Remember, GDAL index is on 1, but Python is on 0 -- so we add 1 for our GDAL calls\n",
    "    band = ds.GetRasterBand(b + 1)\n",
    "    \n",
    "    # Read in the band's data into the third dimension of our array\n",
    "    image_correct[:, :, b] = band.ReadAsArray()\n"
   ]
  },
  {
   "cell_type": "code",
   "execution_count": 5,
   "metadata": {},
   "outputs": [],
   "source": [
    "image_correct.shape\n",
    "image_flatten = image_correct.reshape(2904*1920,5)\n",
    "#image_flatten_ndvi = np.hstack((image_flatten,np.column_stack((image_flatten[:,4]-image_flatten[:,3])/(image_flatten[:,4]+image_flatten[:,3])).T))"
   ]
  },
  {
   "cell_type": "code",
   "execution_count": 6,
   "metadata": {
    "collapsed": true
   },
   "outputs": [],
   "source": [
    "#ds_cluster = gdal.Open(\"/data/gdrive/Data/Clusters/ClusterRaster24_update.tif\", gdal.GA_ReadOnly)\n",
    "#ds_cluster = gdal.Open(\"../data/landsat/ClusterRaster24_update.tif\", gdal.GA_ReadOnly)\n",
    "df_cond = pd.DataFrame(image_flatten.tolist())\n",
    "#df_cond['cluster'] = np.column_stack(ds_cluster.ReadAsArray().flatten())[0]"
   ]
  },
  {
   "cell_type": "code",
   "execution_count": 7,
   "metadata": {},
   "outputs": [
    {
     "data": {
      "text/plain": [
       "(5575680, 5)"
      ]
     },
     "execution_count": 7,
     "metadata": {},
     "output_type": "execute_result"
    }
   ],
   "source": [
    "df_cond.shape"
   ]
  },
  {
   "cell_type": "code",
   "execution_count": 8,
   "metadata": {
    "scrolled": true
   },
   "outputs": [],
   "source": [
    "#ds_cluster.ReadAsArray()"
   ]
  },
  {
   "cell_type": "code",
   "execution_count": 9,
   "metadata": {
    "collapsed": true
   },
   "outputs": [],
   "source": [
    "from sklearn.preprocessing import StandardScaler\n",
    "x_scaled = StandardScaler().fit_transform(df_cond.as_matrix().astype(np.float64))\n",
    "X_sklearn = x_scaled\n",
    "#from sklearn.decomposition import PCA\n",
    "#sklearn_pca = PCA(n_components=6)\n",
    "#X_sklearn = sklearn_pca.fit_transform(x_scaled)"
   ]
  },
  {
   "cell_type": "code",
   "execution_count": 10,
   "metadata": {},
   "outputs": [],
   "source": [
    "#k_means = cluster.KMeans(n_clusters=24,random_state=3254)\n",
    "#k_means = cluster.KMeans(n_clusters=10,random_state=3254)\n",
    "k_means = cluster.MiniBatchKMeans(n_clusters=50,random_state=3254)\n",
    "k_means.fit(X_sklearn) \n",
    "y_kmeans = k_means.predict(X_sklearn)\n",
    "df_cond['cluster'] = y_kmeans"
   ]
  },
  {
   "cell_type": "code",
   "execution_count": 11,
   "metadata": {},
   "outputs": [
    {
     "data": {
      "text/plain": [
       "True"
      ]
     },
     "execution_count": 11,
     "metadata": {},
     "output_type": "execute_result"
    }
   ],
   "source": [
    "# Verify raster matches calculated cluster\n",
    "np.array_equal(y_kmeans, df_cond['cluster'].tolist())"
   ]
  },
  {
   "cell_type": "code",
   "execution_count": 12,
   "metadata": {
    "collapsed": true
   },
   "outputs": [],
   "source": [
    "base_path = \"data/tiles/Escondido2014_utm_forcep5_clip/jpg/\"\n",
    "file_name = \"Escondido2014_utm_forcep5_clip\"\n",
    "#base_path = \"data/tiles/1154314_2014-07-23_RE2_3A_Analytic_clip/jpg/\"\n",
    "#file_name = \"1154314_2014-07-23_RE2_3A_Analytic_clip\"\n",
    "\n",
    "df_cond['image_paths'] = base_path + file_name + df_cond.index.astype(str) + \".jpg\""
   ]
  },
  {
   "cell_type": "code",
   "execution_count": 13,
   "metadata": {
    "collapsed": true,
    "scrolled": true
   },
   "outputs": [],
   "source": [
    "df_cond['dist'] = 0.0\n",
    "for index, row in df_cond.iterrows():\n",
    "    df_cond['dist'].iat[index] = np.linalg.norm(X_sklearn[index]-k_means.cluster_centers_[row['cluster']])\n"
   ]
  },
  {
   "cell_type": "code",
   "execution_count": 14,
   "metadata": {},
   "outputs": [
    {
     "data": {
      "text/html": [
       "<div>\n",
       "<style scoped>\n",
       "    .dataframe tbody tr th:only-of-type {\n",
       "        vertical-align: middle;\n",
       "    }\n",
       "\n",
       "    .dataframe tbody tr th {\n",
       "        vertical-align: top;\n",
       "    }\n",
       "\n",
       "    .dataframe thead th {\n",
       "        text-align: right;\n",
       "    }\n",
       "</style>\n",
       "<table border=\"1\" class=\"dataframe\">\n",
       "  <thead>\n",
       "    <tr style=\"text-align: right;\">\n",
       "      <th></th>\n",
       "      <th>0</th>\n",
       "      <th>1</th>\n",
       "      <th>2</th>\n",
       "      <th>3</th>\n",
       "      <th>4</th>\n",
       "      <th>cluster</th>\n",
       "      <th>image_paths</th>\n",
       "      <th>dist</th>\n",
       "    </tr>\n",
       "  </thead>\n",
       "  <tbody>\n",
       "    <tr>\n",
       "      <th>0</th>\n",
       "      <td>10156</td>\n",
       "      <td>10360</td>\n",
       "      <td>10188</td>\n",
       "      <td>9253</td>\n",
       "      <td>8359</td>\n",
       "      <td>7</td>\n",
       "      <td>data/tiles/Escondido2014_utm_forcep5_clip/jpg/...</td>\n",
       "      <td>0.476810</td>\n",
       "    </tr>\n",
       "    <tr>\n",
       "      <th>1</th>\n",
       "      <td>10541</td>\n",
       "      <td>10514</td>\n",
       "      <td>10083</td>\n",
       "      <td>9175</td>\n",
       "      <td>9308</td>\n",
       "      <td>26</td>\n",
       "      <td>data/tiles/Escondido2014_utm_forcep5_clip/jpg/...</td>\n",
       "      <td>0.434461</td>\n",
       "    </tr>\n",
       "    <tr>\n",
       "      <th>2</th>\n",
       "      <td>10619</td>\n",
       "      <td>9845</td>\n",
       "      <td>9071</td>\n",
       "      <td>8712</td>\n",
       "      <td>9363</td>\n",
       "      <td>7</td>\n",
       "      <td>data/tiles/Escondido2014_utm_forcep5_clip/jpg/...</td>\n",
       "      <td>0.480834</td>\n",
       "    </tr>\n",
       "    <tr>\n",
       "      <th>3</th>\n",
       "      <td>9202</td>\n",
       "      <td>8978</td>\n",
       "      <td>8564</td>\n",
       "      <td>7857</td>\n",
       "      <td>8489</td>\n",
       "      <td>42</td>\n",
       "      <td>data/tiles/Escondido2014_utm_forcep5_clip/jpg/...</td>\n",
       "      <td>0.223407</td>\n",
       "    </tr>\n",
       "    <tr>\n",
       "      <th>4</th>\n",
       "      <td>9699</td>\n",
       "      <td>9874</td>\n",
       "      <td>8689</td>\n",
       "      <td>7702</td>\n",
       "      <td>7861</td>\n",
       "      <td>33</td>\n",
       "      <td>data/tiles/Escondido2014_utm_forcep5_clip/jpg/...</td>\n",
       "      <td>0.406925</td>\n",
       "    </tr>\n",
       "  </tbody>\n",
       "</table>\n",
       "</div>"
      ],
      "text/plain": [
       "       0      1      2     3     4  cluster  \\\n",
       "0  10156  10360  10188  9253  8359        7   \n",
       "1  10541  10514  10083  9175  9308       26   \n",
       "2  10619   9845   9071  8712  9363        7   \n",
       "3   9202   8978   8564  7857  8489       42   \n",
       "4   9699   9874   8689  7702  7861       33   \n",
       "\n",
       "                                         image_paths      dist  \n",
       "0  data/tiles/Escondido2014_utm_forcep5_clip/jpg/...  0.476810  \n",
       "1  data/tiles/Escondido2014_utm_forcep5_clip/jpg/...  0.434461  \n",
       "2  data/tiles/Escondido2014_utm_forcep5_clip/jpg/...  0.480834  \n",
       "3  data/tiles/Escondido2014_utm_forcep5_clip/jpg/...  0.223407  \n",
       "4  data/tiles/Escondido2014_utm_forcep5_clip/jpg/...  0.406925  "
      ]
     },
     "execution_count": 14,
     "metadata": {},
     "output_type": "execute_result"
    }
   ],
   "source": [
    "df_cond.head()"
   ]
  },
  {
   "cell_type": "code",
   "execution_count": 15,
   "metadata": {},
   "outputs": [
    {
     "data": {
      "image/png": "[encoded data removed]",
      "text/plain": [
       "<Figure size 432x288 with 1 Axes>"
      ]
     },
     "metadata": {},
     "output_type": "display_data"
    }
   ],
   "source": [
    "import matplotlib.pyplot as plt\n",
    "(df_cond['dist'] * 1000).hist(bins=100)\n",
    "plt.show()"
   ]
  },
  {
   "cell_type": "code",
   "execution_count": 16,
   "metadata": {
    "collapsed": true
   },
   "outputs": [],
   "source": [
    "df_cond['dist'] = (df_cond['dist'] * 1000).apply(np.floor)\n",
    "df_cond['dist'] = df_cond['dist'].astype(int)"
   ]
  },
  {
   "cell_type": "code",
   "execution_count": 17,
   "metadata": {},
   "outputs": [
    {
     "data": {
      "image/png": "[encoded data removed]",
      "text/plain": [
       "<Figure size 432x288 with 1 Axes>"
      ]
     },
     "metadata": {},
     "output_type": "display_data"
    }
   ],
   "source": [
    "df_cond['dist'].hist(bins=100)\n",
    "plt.show()"
   ]
  },
  {
   "cell_type": "code",
   "execution_count": 18,
   "metadata": {
    "collapsed": true
   },
   "outputs": [],
   "source": [
    "#change\n",
    "write_path = \"../data/digitalglobe/results/cluster50landsat_pl/\"\n",
    "combined_write_path = \"escondido-train-test.csv\"\n",
    "img_hist_write_path = \"escondido-img-hist-pltop1000nearest.png\"\n",
    "montage_dirs_path = \"../data/digitalglobe/results/cluster10landsat_pl/escondido/clusters-montages/\"\n",
    "images_clusterd_dir_root = \"../data/digitalglobe/results/cluster10landsat_pl/escondido/clustered-images/cluster_\"\n",
    "\n",
    "if not os.path.exists(write_path):\n",
    "    os.makedirs(write_path)"
   ]
  },
  {
   "cell_type": "code",
   "execution_count": 19,
   "metadata": {},
   "outputs": [],
   "source": [
    "#df_cond[['image_paths','cluster','dist']].to_csv(combined_write_path, index = False)\n",
    "#df_cond[['image_paths','cluster','dist']].groupby('cluster', group_keys=False).apply(quantile_function, 0.5).to_csv(write_path + combined_write_path, index = False)\n",
    "df_cond[['image_paths','cluster','dist']].iloc[list(df_cond.groupby('cluster', group_keys=False)['dist'].nsmallest(1000).index.levels[1])].to_csv(write_path + combined_write_path, index = False)\n",
    "\n"
   ]
  },
  {
   "cell_type": "code",
   "execution_count": 20,
   "metadata": {},
   "outputs": [
    {
     "data": {
      "text/plain": [
       "(50000, 3)"
      ]
     },
     "execution_count": 20,
     "metadata": {},
     "output_type": "execute_result"
    }
   ],
   "source": [
    "df = pd.read_csv(write_path + combined_write_path)\n",
    "df.shape"
   ]
  },
  {
   "cell_type": "code",
   "execution_count": 21,
   "metadata": {},
   "outputs": [],
   "source": [
    "list_picture_index = list(df_cond[['image_paths','cluster','dist']].iloc[list(df_cond.groupby('cluster', group_keys=False)['dist'].nsmallest(1000).index.levels[1])].index)"
   ]
  },
  {
   "cell_type": "code",
   "execution_count": 22,
   "metadata": {
    "scrolled": true
   },
   "outputs": [
    {
     "name": "stdout",
     "output_type": "stream",
     "text": [
      "(480894.4629851412, 3667501.770068448)\n",
      "(29045, 19200)\n",
      "(2904, 1920)\n"
     ]
    }
   ],
   "source": [
    "from PIL import Image,ImageEnhance\n",
    "\n",
    "output_dir = \"data/tiles\"\n",
    "raw_file_location = \"../data/digitalglobe/Escondido2014_utm_forcep5_clip.tif\"\n",
    "raw_file_name = \"Escondido2014_utm_forcep5_clip\"\n",
    "color_band_order = [0,1,2]\n",
    "\n",
    "ds = gdal.Open(raw_file_location, gdal.GA_ReadOnly)\n",
    "# DataType is a property of the individual raster bands\n",
    "image_datatype = ds.GetRasterBand(1).DataType\n",
    "\n",
    "# Allocate our array, but in a more efficient way\n",
    "image_correct = np.zeros((ds.RasterYSize, ds.RasterXSize, ds.RasterCount),\n",
    "                 dtype=gdal_array.GDALTypeCodeToNumericTypeCode(image_datatype))\n",
    "\n",
    "# Loop over all bands in dataset\n",
    "#for b in range(ds.RasterCount):\n",
    "for b in range(ds.RasterCount):\n",
    "    # Remember, GDAL index is on 1, but Python is on 0 -- so we add 1 for our GDAL calls\n",
    "    band = ds.GetRasterBand(b + 1)\n",
    "    \n",
    "    # Read in the band's data into the third dimension of our array\n",
    "    image_correct[:, :, b] = band.ReadAsArray()\n",
    "\n",
    "# Order the bands into red, green, blue\n",
    "image_correct = image_correct[:, :, color_band_order]\n",
    "\n",
    "cols = ds.RasterXSize\n",
    "rows = ds.RasterYSize\n",
    "\n",
    "transform = ds.GetGeoTransform()\n",
    "minx = transform[0]\n",
    "maxx = transform[0] + cols * transform[1] + rows * transform[2]\n",
    "\n",
    "miny = transform[3] + cols * transform[4] + rows * transform[5]\n",
    "maxy = transform[3]\n",
    "\n",
    "width = maxx - minx\n",
    "height = maxy - miny\n",
    "\n",
    "xOrigin = transform[0]\n",
    "yOrigin = transform[3]\n",
    "pixelWidth = transform[1]\n",
    "pixelHeight = -transform[5]\n",
    "\n",
    "print (xOrigin, yOrigin)\n",
    "\n",
    "squaresize = 10\n",
    "\n",
    "m = int(rows/squaresize)\n",
    "n = int(cols/squaresize)\n",
    "\n",
    "print (rows,cols)\n",
    "print (m,n)\n",
    "\n",
    "list_patches = []\n",
    "pathlib2.Path(os.path.join(output_dir, raw_file_name, 'jpg')).mkdir(parents=True, exist_ok=True) \n",
    "\n",
    "for j in range(m, 0, -1):\n",
    "    for i in range(0, n):\n",
    "        list_patches.append(image_correct[(m-j)*squaresize:(m-j)*squaresize+squaresize, i*squaresize:i*squaresize+squaresize, :])\n",
    "            \n",
    "for x in list_picture_index:\n",
    "    blue = Image.fromarray(list_patches[x][:,:,2], \"L\")\n",
    "    green = Image.fromarray(list_patches[x][:,:,1], \"L\")\n",
    "    red = Image.fromarray(list_patches[x][:,:,0], \"L\")\n",
    "    out = Image.merge(\"RGB\", (red, green, blue))\n",
    "    out = out.resize((60,60))\n",
    "    out.save(os.path.join(output_dir, raw_file_name, 'jpg', raw_file_name +str(x)+\".jpg\"))"
   ]
  },
  {
   "cell_type": "code",
   "execution_count": null,
   "metadata": {
    "collapsed": true
   },
   "outputs": [],
   "source": []
  },
  {
   "cell_type": "code",
   "execution_count": 23,
   "metadata": {},
   "outputs": [
    {
     "data": {
      "image/png": "[encoded data removed]",
      "text/plain": [
       "<PIL.Image.Image image mode=L size=10x10 at 0x1AD3B4850>"
      ]
     },
     "execution_count": 23,
     "metadata": {},
     "output_type": "execute_result"
    }
   ],
   "source": [
    "\n",
    "Image.fromarray(list_patches[0][:,:,2], \"L\")"
   ]
  },
  {
   "cell_type": "code",
   "execution_count": null,
   "metadata": {
    "collapsed": true
   },
   "outputs": [],
   "source": []
  },
  {
   "cell_type": "code",
   "execution_count": 23,
   "metadata": {},
   "outputs": [],
   "source": [
    "M = montage_manager.Montages()\n",
    "f = os.path.abspath(write_path + combined_write_path)\n",
    "img_hist = M.create_image_hist(src_path=f)\n",
    "img_hist.save(write_path + img_hist_write_path)"
   ]
  },
  {
   "cell_type": "code",
   "execution_count": null,
   "metadata": {
    "collapsed": true
   },
   "outputs": [],
   "source": []
  },
  {
   "cell_type": "code",
   "execution_count": 98,
   "metadata": {},
   "outputs": [
    {
     "name": "stdout",
     "output_type": "stream",
     "text": [
      "number of images: 6580\n",
      "number of images: 13797\n",
      "number of images: 7487\n",
      "number of images: 4914\n",
      "number of images: 1762\n",
      "number of images: 5492\n",
      "number of images: 472\n",
      "number of images: 2653\n",
      "number of images: 10709\n",
      "number of images: 8021\n",
      "number of images: 139\n",
      "number of images: 2230\n",
      "number of images: 9547\n",
      "number of images: 6409\n",
      "number of images: 18396\n",
      "number of images: 137\n",
      "number of images: 6789\n",
      "number of images: 13203\n",
      "number of images: 476\n",
      "number of images: 2624\n",
      "number of images: 9865\n",
      "number of images: 18461\n",
      "number of images: 3889\n",
      "number of images: 827\n"
     ]
    }
   ],
   "source": [
    "# M = montage_manager.Montages()\n",
    "# f = os.path.abspath(combined_write_path)\n",
    "# img_hist = M.create_image_hist(src_path=f)\n",
    "# img_hist.save(img_hist_write_path)\n",
    "# montages = M.binned_montage(df, img_paths_col=\"image_path\", bins_col=\"cluster\", vals_col=\"dist\")\n"
   ]
  },
  {
   "cell_type": "code",
   "execution_count": 99,
   "metadata": {
    "collapsed": true
   },
   "outputs": [],
   "source": [
    "if not os.path.exists(montage_dirs_path):\n",
    "    os.makedirs(montage_dirs_path)\n",
    "        \n",
    "for montage in montages:\n",
    "    montage[0].save(montage_dirs_path + \"cluster_\" + montage[1]+\".png\")"
   ]
  },
  {
   "cell_type": "code",
   "execution_count": null,
   "metadata": {
    "collapsed": true
   },
   "outputs": [],
   "source": []
  },
  {
   "cell_type": "code",
   "execution_count": 100,
   "metadata": {
    "collapsed": true
   },
   "outputs": [],
   "source": [
    "target_dir = images_clusterd_dir_root\n",
    "for i in range(df.shape[0]):\n",
    "    image_path = df.image_paths[i]\n",
    "    cluster = df.cluster.iloc[i]\n",
    "    write_path = target_dir + str(cluster) + '/'\n",
    "    \n",
    "    if not os.path.exists(write_path):\n",
    "        os.makedirs(write_path)\n",
    "\n",
    "    shutil.copy2(image_path, write_path)"
   ]
  },
  {
   "cell_type": "code",
   "execution_count": null,
   "metadata": {
    "collapsed": true
   },
   "outputs": [],
   "source": []
  }
 ],
 "metadata": {
  "kernelspec": {
   "display_name": "Python [conda root]",
   "language": "python",
   "name": "conda-root-py"
  },
  "language_info": {
   "codemirror_mode": {
    "name": "ipython",
    "version": 2
   },
   "file_extension": ".py",
   "mimetype": "text/x-python",
   "name": "python",
   "nbconvert_exporter": "python",
   "pygments_lexer": "ipython2",
   "version": "2.7.11"
  },
  "toc": {
   "colors": {
    "hover_highlight": "#DAA520",
    "running_highlight": "#FF0000",
    "selected_highlight": "#FFD700"
   },
   "moveMenuLeft": true,
   "nav_menu": {
    "height": "12px",
    "width": "252px"
   },
   "navigate_menu": true,
   "number_sections": true,
   "sideBar": true,
   "threshold": 4,
   "toc_cell": false,
   "toc_section_display": "block",
   "toc_window_display": false,
   "widenNotebook": false
  }
 },
 "nbformat": 4,
 "nbformat_minor": 2
}
